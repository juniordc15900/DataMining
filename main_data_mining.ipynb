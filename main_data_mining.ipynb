{
 "cells": [
  {
   "cell_type": "code",
   "execution_count": 21,
   "metadata": {},
   "outputs": [],
   "source": [
    "import csv\n",
    "import psycopg2\n",
    "from docker.db.use_cases.get_connect_db import *\n",
    "\n",
    "\n"
   ]
  },
  {
   "cell_type": "code",
   "execution_count": 36,
   "metadata": {},
   "outputs": [
    {
     "name": "stdout",
     "output_type": "stream",
     "text": [
      "<connection object at 0x7f623b6d7740; dsn: 'user=alessandro password=xxx dbname=data-mining-db host=172.17.0.2', closed: 0> <cursor object at 0x7f6229528130; closed: 0>\n"
     ]
    }
   ],
   "source": [
    "conn, cur = get_connect_db()\n",
    "print(conn,cur)"
   ]
  },
  {
   "cell_type": "code",
   "execution_count": 37,
   "metadata": {},
   "outputs": [
    {
     "name": "stdout",
     "output_type": "stream",
     "text": [
      "[(1, 'ale', 'a'), (2, 'aless', 'dois'), (3, 'aless', 'dois')]\n"
     ]
    }
   ],
   "source": [
    "\n",
    "statement = \"INSERT INTO data (id,column1, column2) VALUES (3,'aless','dois');\"\n",
    "cur.execute(statement)\n",
    "statement = 'SELECT * FROM data;'\n",
    "cur.execute(statement)\n",
    "conn.commit()\n",
    "a = cur.fetchall()\n",
    "print(a)"
   ]
  },
  {
   "cell_type": "code",
   "execution_count": 26,
   "metadata": {},
   "outputs": [],
   "source": [
    "close_db(conn,cur)"
   ]
  },
  {
   "cell_type": "code",
   "execution_count": 27,
   "metadata": {},
   "outputs": [
    {
     "name": "stdout",
     "output_type": "stream",
     "text": [
      "<connection object at 0x7f623b6d7740; dsn: 'user=alessandro password=xxx dbname=data-mining-db host=172.17.0.2', closed: 1> <cursor object at 0x7f62296365c0; closed: 0>\n"
     ]
    }
   ],
   "source": [
    "print(conn,cur)"
   ]
  }
 ],
 "metadata": {
  "kernelspec": {
   "display_name": ".venv-datamining",
   "language": "python",
   "name": "python3"
  },
  "language_info": {
   "codemirror_mode": {
    "name": "ipython",
    "version": 3
   },
   "file_extension": ".py",
   "mimetype": "text/x-python",
   "name": "python",
   "nbconvert_exporter": "python",
   "pygments_lexer": "ipython3",
   "version": "3.10.12"
  },
  "orig_nbformat": 4
 },
 "nbformat": 4,
 "nbformat_minor": 2
}
